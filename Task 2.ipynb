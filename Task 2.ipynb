{
 "cells": [
  {
   "cell_type": "markdown",
   "metadata": {},
   "source": [
    "# Python列表 元组 字符串\n",
    "## 1.列表\n",
    "### 标志\n",
    "在Python中，用方括号（`[]`）来表示列表（List），并用逗号（`,`）来分隔其中的元素。  \n",
    "\n",
    "列表的数据项不需要具有相同的类型。\n",
    "### 基本操作\n",
    "#### 创建\n",
    "创建一个列表，只要把逗号分隔的不同的数据项使用方括号括起来即可。"
   ]
  },
  {
   "cell_type": "code",
   "execution_count": 19,
   "metadata": {},
   "outputs": [
    {
     "name": "stdout",
     "output_type": "stream",
     "text": [
      "[1, 2, 3, 4, 5] ['a', 'b', 'c', 'd', 'e'] ['number', 1, 2, 3, 'year', 2019]\n"
     ]
    }
   ],
   "source": [
    "# 创建列表\n",
    "list1 = [1,2,3,4,5]\n",
    "list2 = ['a','b','c','d','e']\n",
    "list3 = ['number',1,2,3,'year',2019]\n",
    "print(list1,list2,list3)"
   ]
  },
  {
   "cell_type": "markdown",
   "metadata": {},
   "source": [
    "要访问列表元素，可指出列表的名称，再指出元素的索引，并将其放在方括号内。\n",
    "\n",
    "-  注意索引是从`0`开始的。  \n",
    "-  如果要取最后一个元素，除了计算索引位置外，还可以用`‐1`做索引，直接获取最后一个元素。"
   ]
  },
  {
   "cell_type": "code",
   "execution_count": 4,
   "metadata": {},
   "outputs": [
    {
     "name": "stdout",
     "output_type": "stream",
     "text": [
      "list[0]:  number\n",
      "The year is:  2019\n",
      "The numbers are:  [1, 2, 3]\n"
     ]
    }
   ],
   "source": [
    "# 创建列表\n",
    "list = ['number',1,2,3,'year',2019]\n",
    "# 访问列表元素\n",
    "print(\"list[0]: \",list[0])\n",
    "print(\"The year is: \",list[-1])\n",
    "print(\"The numbers are: \",list[1:4])"
   ]
  },
  {
   "cell_type": "markdown",
   "metadata": {},
   "source": [
    "#### append()\n",
    "`append()`方法添加列表元素至列表末尾，而不影响列表中的其他元素。"
   ]
  },
  {
   "cell_type": "code",
   "execution_count": 8,
   "metadata": {},
   "outputs": [
    {
     "name": "stdout",
     "output_type": "stream",
     "text": [
      "['Java']\n",
      "['Java', 'Python']\n"
     ]
    }
   ],
   "source": [
    "# 创建一个空列表\n",
    "list = []\n",
    "# 添加一个元素\n",
    "list.append(\"Java\")\n",
    "print(list)\n",
    "list.append(\"Python\")\n",
    "print(list)"
   ]
  },
  {
   "cell_type": "markdown",
   "metadata": {},
   "source": [
    "#### pop()\n",
    "术语弹出 （pop）源自这样的类比：列表就像一个栈，而删除列表末尾的元素相当于弹出栈顶元素。\n",
    "\n",
    "- `pop()`方法可删除列表末尾的元素，并返回该元素的值。\n",
    "- 在`pop()`括号中指定要删除的元素的索引可以删除列表中任何位置的元素。"
   ]
  },
  {
   "cell_type": "code",
   "execution_count": 10,
   "metadata": {},
   "outputs": [
    {
     "name": "stdout",
     "output_type": "stream",
     "text": [
      "I am learning  Python  now.\n",
      "['C++', 'Java']\n",
      "I have learned  C++  before.\n",
      "['Java']\n"
     ]
    }
   ],
   "source": [
    "# 创建一个列表\n",
    "languages = [\"C++\",\"Java\",\"Python\"]\n",
    "# 删除并返回列表末尾元素值\n",
    "now_learning = languages.pop()\n",
    "print(\"I am learning \",now_learning,\" now.\")\n",
    "print(languages)\n",
    "# 删除并返回列表指定位置元素值\n",
    "before_learned = languages.pop(0)\n",
    "print(\"I have learned \",before_learned,\" before.\")\n",
    "print(languages)"
   ]
  },
  {
   "cell_type": "markdown",
   "metadata": {},
   "source": [
    "#### del()\n",
    "使用`del()`可删除任何位置处的列表元素，条件是知道其索引。"
   ]
  },
  {
   "cell_type": "code",
   "execution_count": 12,
   "metadata": {},
   "outputs": [
    {
     "name": "stdout",
     "output_type": "stream",
     "text": [
      "After deleting value at index 3:  ['China', 'Russia', 'France']\n"
     ]
    }
   ],
   "source": [
    "# 创建一个列表\n",
    "countries = [\"China\",\"Russia\",\"France\",\"America\"]\n",
    "# 删除指定位置列表元素\n",
    "del countries[3]\n",
    "print(\"After deleting value at index 3: \",countries)"
   ]
  },
  {
   "cell_type": "markdown",
   "metadata": {},
   "source": [
    "#### 拷贝\n",
    "在Python中复制一个新列表的方法有：\n",
    "- 使用切片：创建一个包含整个列表的切片，方法是同时省略起始索引和终止索引（`[:]`）。\n",
    "- 使用`copy()`：`copy()`在python中可以实现拷贝一个对象，包含浅拷贝`copy()`和深拷贝`copy.deepcopy()`两种方法。"
   ]
  },
  {
   "cell_type": "code",
   "execution_count": 16,
   "metadata": {},
   "outputs": [
    {
     "name": "stdout",
     "output_type": "stream",
     "text": [
      "使用切片：\n",
      "['a', 'b', 'c'] ['a', 'b', 'c']\n",
      "['a', 'b', 'c', 'd'] ['a', 'b', 'c', 'e']\n",
      "使用浅拷贝copy()：\n",
      "[['a', 'b'], 'c', 'd'] [['a', 'b'], 'c', 'd']\n",
      "[['f', 'b'], 'c', 'd'] [['f', 'b'], 'e', 'd']\n",
      "使用深拷贝copy.deepcopy()：\n",
      "[['a', 'b'], 'c', 'd'] [['a', 'b'], 'c', 'd']\n",
      "[['a', 'b'], 'c', 'd'] [['f', 'b'], 'e', 'd']\n"
     ]
    }
   ],
   "source": [
    "# 使用切片\n",
    "list1 = [\"a\",\"b\",\"c\"]\n",
    "list2 = list1[:]\n",
    "print(\"使用切片：\")\n",
    "print(list1,list2)\n",
    "list1.append(\"d\")\n",
    "list2.append(\"e\")\n",
    "print(list1,list2)\n",
    "\n",
    "# 使用copy()\n",
    "#浅拷贝\n",
    "list3 = [[\"a\",\"b\"],\"c\",\"d\"]\n",
    "list4 = list3.copy()\n",
    "print(\"使用浅拷贝copy()：\")\n",
    "print(list3,list4)\n",
    "list4[1] = \"e\"\n",
    "list4[0][0] = \"f\"\n",
    "print(list3,list4)\n",
    "#深拷贝\n",
    "import copy   #引入copy模块\n",
    "list3 = [[\"a\",\"b\"],\"c\",\"d\"]\n",
    "list5 = copy.deepcopy(list3)\n",
    "print(\"使用深拷贝copy.deepcopy()：\")\n",
    "print(list3,list5)\n",
    "list5[1] = \"e\"\n",
    "list5[0][0] = \"f\"\n",
    "print(list3,list5)"
   ]
  },
  {
   "cell_type": "markdown",
   "metadata": {},
   "source": [
    "### 列表相关方法\n",
    "Python包含以下列表相关函数：\n",
    "- `cmp(list1, list2)`  比较两个列表的元素\n",
    "- `len(list)`  列表元素个数\n",
    "- `max(list)`  返回列表元素最大值\n",
    "- `min(list)`  返回列表元素最小值\n",
    "- `list(seq)`  将元组转换为列表\n",
    "Python包含以下列表相关方法：\n",
    "- `list.append(obj)`  在列表末尾添加新的对象\n",
    "- `list.count(obj)`  统计某个元素在列表中出现的次数\n",
    "- `list.extend(seq)`  在列表末尾一次性追加另一个序列中的多个值（用新列表扩展原来的列表）\n",
    "- `list.index(obj)`  从列表中找出某个值第一个匹配项的索引位置\n",
    "- `list.insert(index, obj)`  将对象插入列表\n",
    "- `list.pop([index=-1])`  移除列表中的一个元素（默认最后一个元素），并且返回该元素的值\n",
    "- `list.remove(obj)`  移除列表中某个值的第一个匹配项\n",
    "- `list.reverse()`  反向列表中元素\n",
    "- `list.sort(cmp=None, key=None, reverse=False)`  对原列表进行排序"
   ]
  },
  {
   "cell_type": "markdown",
   "metadata": {},
   "source": [
    "## 2.元组\n",
    "### 标志\n",
    "Python将不能修改的值称为不可变的，而不可变的列表被称为元组（tuple）。\n",
    "\n",
    "元组看起来犹如列表，但使用圆括号（`()`）而不是方括号来标识。\n",
    "### 基本操作\n",
    "#### 创建\n",
    "元组创建很简单，只需要在括号（`()`）中添加元素，并使用逗号（`,`）隔开即可。\n",
    "\n",
    "注意：元组中只包含一个元素时，需要在元素后面添加逗号，否则括号会被当作运算符使用。"
   ]
  },
  {
   "cell_type": "code",
   "execution_count": 12,
   "metadata": {},
   "outputs": [
    {
     "name": "stdout",
     "output_type": "stream",
     "text": [
      "()\n",
      "<class 'int'>\n",
      "<class 'tuple'>\n",
      "countries:  ('China', 'Russia', 'France', 'America')\n",
      "countries[0]:  China\n",
      "countries[0:3]:  ('China', 'Russia', 'France')\n",
      "['China', 'Russia', 'France', 'America']\n",
      "('China', 'Russia', 'France', 'America')\n"
     ]
    }
   ],
   "source": [
    "# 创建空元组\n",
    "tup1 = ()\n",
    "print(tup1)\n",
    "\n",
    "# 创建只包含一个元素的元组\n",
    "tup2 = (1)\n",
    "print(type(tup2))\n",
    "tup3 = (1,)\n",
    "print(type(tup3))\n",
    "\n",
    "# 创建包含多个元素的元组\n",
    "countries = (\"China\",\"Russia\",\"France\",\"America\")\n",
    "print(\"countries: \",countries)\n",
    "print(\"countries[0]: \",countries[0])\n",
    "print(\"countries[0:3]: \",countries[0:3])\n",
    "\n",
    "# 将列表转换为元组\n",
    "countries_list = [\"China\",\"Russia\",\"France\",\"America\"]\n",
    "print(countries_list)\n",
    "countries_tuple = tuple(countries_list)\n",
    "print(countries_tuple)"
   ]
  },
  {
   "cell_type": "markdown",
   "metadata": {},
   "source": [
    "#### 不可变性\n",
    "元组具有不可变性：\n",
    "- 元组中的元素值是不允许修改的，但可以对元组进行连接组合。\n",
    "- 元组中的元素值是不允许删除的，但可以使用del语句来删除整个元组。"
   ]
  },
  {
   "cell_type": "code",
   "execution_count": 14,
   "metadata": {},
   "outputs": [
    {
     "name": "stdout",
     "output_type": "stream",
     "text": [
      "(9.999, 8.88, 7.7, 'abcd', 'efg', 'h', 'ij')\n"
     ]
    }
   ],
   "source": [
    "# 元组连接\n",
    "tup1 = (9.999,8.88,7.7)\n",
    "tup2 = ('abcd','efg','h','ij')\n",
    "tup3 = tup1 + tup2\n",
    "print(tup3)\n",
    "\n",
    "# 删除元组\n",
    "del tup3\n",
    "# print(tup3)"
   ]
  },
  {
   "cell_type": "markdown",
   "metadata": {},
   "source": [
    "## 3.String字符串\n",
    "### 定义\n",
    "字符串就是一系列字符。在Python中，用引号括起的都是字符串，其中的引号可以是单引号（`''`），也可以是双引号（`\"\"`）。\n",
    "\n",
    "创建字符串很简单，只要为变量分配一个值即可。"
   ]
  },
  {
   "cell_type": "code",
   "execution_count": 16,
   "metadata": {},
   "outputs": [
    {
     "name": "stdout",
     "output_type": "stream",
     "text": [
      "I told my friend, \"Python is my favorite language!\"\n",
      "str[0]:  I\n",
      "str[19:25]:  Python\n"
     ]
    }
   ],
   "source": [
    "# 创建一个字符串\n",
    "str = 'I told my friend, \"Python is my favorite language!\"'\n",
    "print(str)\n",
    "\n",
    "# 访问字符串中的值\n",
    "print(\"str[0]: \",str[0])\n",
    "print(\"str[19:25]: \",str[19:25])"
   ]
  },
  {
   "cell_type": "markdown",
   "metadata": {},
   "source": [
    "### 基本操作\n",
    "#### `+`操作\n",
    "`+`用于字符串连接。\n",
    "#### `*`操作\n",
    "`*`用于重复输出字符串。"
   ]
  },
  {
   "cell_type": "code",
   "execution_count": 17,
   "metadata": {},
   "outputs": [
    {
     "name": "stdout",
     "output_type": "stream",
     "text": [
      "Nice to meet you, Python!\n",
      "Python!Python!Python!\n"
     ]
    }
   ],
   "source": [
    "# 字符串连接\n",
    "str1 = \"Nice to meet you, \"\n",
    "str2 = \"Python!\"\n",
    "str3 = str1 + str2\n",
    "print(str3)\n",
    "\n",
    "# 字符串重复输出\n",
    "str4 = str2*3\n",
    "print(str4)"
   ]
  },
  {
   "cell_type": "markdown",
   "metadata": {},
   "source": [
    "#### 读取方式\n",
    "字符串读取方式有：\n",
    "- `[]`：通过索引获取字符串中字符\n",
    "- `[ : ]`：截取字符串中的一部分，遵循左闭右开原则\n",
    "- `in`（成员运算符）：如果字符串中包含给定的字符返回`True`\n",
    "- `not in`（成员运算符）：如果字符串中不包含给定的字符返回`True`"
   ]
  },
  {
   "cell_type": "code",
   "execution_count": 18,
   "metadata": {},
   "outputs": [
    {
     "name": "stdout",
     "output_type": "stream",
     "text": [
      "str1[0] 输出结果： H\n",
      "str2[0:6] 输出结果： Python\n",
      "H 在变量 str1 中\n",
      "M 不在变量 str2 中\n"
     ]
    }
   ],
   "source": [
    "# 索引与截取\n",
    "str1 = \"Hello, \"\n",
    "str2 = \"Python!\"\n",
    "print(\"str1[0] 输出结果：\",str1[0])\n",
    "print(\"str2[0:6] 输出结果：\",str2[0:6])\n",
    "\n",
    "# 成员运算符\n",
    "if( \"H\" in str1) :\n",
    "    print(\"H 在变量 str1 中\")\n",
    "else :\n",
    "    print(\"H 不在变量 str1 中\")\n",
    "if( \"M\" not in str2) :\n",
    "    print(\"M 不在变量 str2 中\")\n",
    "else :\n",
    "    print(\"M 在变量 str2 中\")"
   ]
  },
  {
   "cell_type": "markdown",
   "metadata": {},
   "source": [
    "### 字符串相关方法\n",
    "字符串相关方法有：\n",
    "- `capitalize()`将字符串的第一个字符转换为大写\n",
    "- `center(width, fillchar)`返回一个指定的宽度`width`居中的字符串，`fillchar`为填充的字符，默认为空格\n",
    "- `count(str, beg= 0,end=len(string))`返回`str`在`string`里面出现的次数，如果`beg`或者`end`指定则返回指定范围内`str`出现的次数\n",
    "- `bytes.decode(encoding=\"utf-8\", errors=\"strict\")`Python3中没有`decode`方法，但我们可以使用`bytes`对象的`decode()`方法来解码给定的`bytes`对象，这个`bytes`对象可以由`str.encode()`来编码返回\n",
    "- `encode(encoding='UTF-8',errors='strict')`以`encoding`指定的编码格式编码字符串，如果出错默认报一个`ValueError`的异常，除非`errors`指定的是`'ignore'`或者`'replace'`\n",
    "- `endswith(suffix, beg=0, end=len(string))`检查字符串是否以`obj`结束，如果`beg`或者`end`指定则检查指定的范围内是否以`obj`结束，如果是，返回 `True`,否则返回`False`\n",
    "- `expandtabs(tabsize=8)`把字符串`string`中的`tab`符号转为空格，`tab`符号默认的空格数是`8`\n",
    "- `find(str, beg=0, end=len(string))`检测`str`是否包含在字符串中，如果指定范围`beg`和`end`，则检查是否包含在指定范围内，如果包含返回开始的索引值，否则返回`-1`\n",
    "- `index(str, beg=0, end=len(string))`跟`find()`方法一样，只不过如果`str`不在字符串中会报一个异常\n",
    "- `isalnum()`如果字符串至少有一个字符并且所有字符都是字母或数字则返回`True`,否则返回`False`\n",
    "- `isalpha()`如果字符串至少有一个字符并且所有字符都是字母则返回`True`, 否则返回`False`\n",
    "- `isdigit()`如果字符串只包含数字则返回`True`，否则返回`False`\n",
    "- `islower()`如果字符串中包含至少一个区分大小写的字符，并且所有这些（区分大小写的）字符都是小写，则返回`True`，否则返回`False`\n",
    "- `isnumeric()`如果字符串中只包含数字字符，则返回`True`，否则返回`False`\n",
    "- `isspace()`如果字符串中只包含空白，则返回`True`，否则返回`False`\n",
    "- `istitle()`如果字符串是标题化的（见`title()`）则返回`True`，否则返回`False`\n",
    "- `isupper()`如果字符串中包含至少一个区分大小写的字符，并且所有这些（区分大小写的）字符都是大写，则返回`True`，否则返回`False`\n",
    "- `join(seq)`以指定字符串作为分隔符，将`seq`中所有的元素（的字符串表示）合并为一个新的字符串\n",
    "- `len(string)`返回字符串长度\n",
    "- `ljust(width[, fillchar])`返回一个原字符串左对齐,并使用`fillchar`填充至长度`width`的新字符串，`fillchar`默认为空格\n",
    "- `lower()`转换字符串中所有大写字符为小写\n",
    "- `lstrip()`截掉字符串左边的空格或指定字符\n",
    "- `maketrans()`创建字符映射的转换表，对于接受两个参数的最简单的调用方式，第一个参数是字符串，表示需要转换的字符，第二个参数也是字符串表示转换的目标\n",
    "- `max(str)`返回字符串`str`中最大的字母\n",
    "- `min(str)`返回字符串`str`中最小的字母\n",
    "- `replace(old, new [, max])`将字符串中的`str1`替换成`str2`,如果`max`指定，则替换不超过`max`次\n",
    "- `rfind(str, beg=0,end=len(string))`类似于`find()`函数，不过是从右边开始查找\n",
    "- `rindex( str, beg=0, end=len(string))`类似于`index()`，不过是从右边开始\n",
    "- `rjust(width,[, fillchar])`返回一个原字符串右对齐,并使用`fillchar`（默认空格）填充至长度`width`的新字符串\n",
    "- `rstrip()`删除字符串字符串末尾的空格\n",
    "- `split(str=\"\", num=string.count(str)) num=string.count(str))`以`str`为分隔符截取字符串，如果`num`有指定值，则仅截取`num+1`个子字符串\n",
    "- `splitlines([keepends])`按照行`('\\r', '\\r\\n', \\n')`分隔，返回一个包含各行作为元素的列表，如果参数`keepends`为`False`，不包含换行符，如果为 `True`，则保留换行符\n",
    "- `startswith(substr, beg=0,end=len(string))`检查字符串是否是以指定子字符串`substr`开头，是则返回`True`，否则返回`False`。如果`beg`和`end`指定值，则在指定范围内检查\n",
    "- `strip([chars])`在字符串上执行`lstrip()`和`rstrip()`\n",
    "- `swapcase()`将字符串中大写转换为小写，小写转换为大写\n",
    "- `title()`返回“标题化”的字符串，就是说所有单词都是以大写开始，其余字母均为小写（见`istitle()`）\n",
    "- `translate(table, deletechars=\"\")`根据`str`给出的表（包含`256`个字符）转换`string`的字符, 要过滤掉的字符放到`deletechars`参数中\n",
    "- `upper()`转换字符串中的小写字母为大写\n",
    "- `zfill(width)`返回长度为`width`的字符串，原字符串右对齐，前面填充`0`\n",
    "- `isdecimal()`检查字符串是否只包含十进制字符，如果是返回`true`，否则返回`false`\n",
    "\n",
    "## 4.字符串格式化问题\n",
    "Python支持格式化字符串的输出。最基本的用法是将一个值插入到一个有字符串格式符`%s`的字符串中。\n",
    "\n",
    "python字符串格式化符号:\n",
    "- `%c`\t 格式化字符及其ASCII码\n",
    "- `%s`\t 格式化字符串\n",
    "- `%d`\t 格式化整数\n",
    "- `%u`\t 格式化无符号整型\n",
    "- `%o`\t 格式化无符号八进制数\n",
    "- `%x`\t 格式化无符号十六进制数\n",
    "- `%X`\t 格式化无符号十六进制数（大写）\n",
    "- `%f`\t 格式化浮点数字，可指定小数点后的精度\n",
    "- `%e`\t 用科学计数法格式化浮点数\n",
    "- `%E`\t 作用同`%e`，用科学计数法格式化浮点数\n",
    "- `%g`\t `%f`和`%e`的简写\n",
    "- `%G`\t `%f`和`%E`的简写\n",
    "- `%p`\t 用十六进制数格式化变量的地址\n",
    "\n",
    "格式化操作符辅助指令:\n",
    "- `*`\t   定义宽度或者小数点精度\n",
    "- `-`\t   用做左对齐\n",
    "- `+`\t   在正数前面显示加号(`+`)\n",
    "- `<sp>`\t在正数前面显示空格\n",
    "- `#`\t   在八进制数前面显示零(`'0'`)，在十六进制前面显示`'0x'`或者`'0X'`（取决于用的是`'x'`还是`'X'`）\n",
    "- `0`\t   显示的数字前面填充`'0'`而不是默认的空格\n",
    "- `%`\t   `'%%'`输出一个单一的`'%'`\n",
    "- `(var)`\t映射变量（字典参数）\n",
    "- `m.n.`   `m`是显示的最小总宽度，`n`是小数点后的位数（如果可用的话）\n",
    "\n",
    "此外，Python2.6开始，新增了一种格式化字符串的函数`str.format()`，它增强了字符串格式化的功能。"
   ]
  },
  {
   "cell_type": "code",
   "execution_count": 20,
   "metadata": {},
   "outputs": [
    {
     "name": "stdout",
     "output_type": "stream",
     "text": [
      "Hi, Michael, you have $1000000.\n",
      " 3-01\n",
      "3.14\n",
      "growth rate: 7 %\n"
     ]
    }
   ],
   "source": [
    "# 字符串格式化\n",
    "print('Hi, %s, you have $%d.' % ('Michael', 1000000))\n",
    "print('%2d-%02d' % (3, 1))\n",
    "print('%.2f' % 3.1415926)\n",
    "print('growth rate: %d %%' % 7)"
   ]
  },
  {
   "cell_type": "code",
   "execution_count": null,
   "metadata": {},
   "outputs": [],
   "source": []
  }
 ],
 "metadata": {
  "kernelspec": {
   "display_name": "Python 3",
   "language": "python",
   "name": "python3"
  },
  "language_info": {
   "codemirror_mode": {
    "name": "ipython",
    "version": 3
   },
   "file_extension": ".py",
   "mimetype": "text/x-python",
   "name": "python",
   "nbconvert_exporter": "python",
   "pygments_lexer": "ipython3",
   "version": "3.7.3"
  }
 },
 "nbformat": 4,
 "nbformat_minor": 2
}
