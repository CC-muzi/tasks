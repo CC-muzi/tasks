{
 "cells": [
  {
   "cell_type": "markdown",
   "metadata": {},
   "source": [
    "# Python环境搭建 Python基础"
   ]
  },
  {
   "cell_type": "markdown",
   "metadata": {},
   "source": [
    "## 1.环境搭建\n",
    "### Anaconda环境配置\n",
    "Anaconda是一个开源的Python发行版本，其下载地址为https://anaconda.org\n",
    "### 解释器\n",
    "Python解释器用于执行`.py`文件\n",
    "1. CPython：官方版本 C语言开发 使用最广\n",
    "2. IPython：基于CPython 交互式解释器\n",
    "3. PyPy：JIT技术 动态编译 执行速度快\n",
    "4. Jython：运行在Java平台\n",
    "5. IronPython：运行在微软.Net平台"
   ]
  },
  {
   "cell_type": "markdown",
   "metadata": {},
   "source": [
    "## 2.Python初体验\n",
    "### print and input（打印与输入）\n",
    "#### `print`用法"
   ]
  },
  {
   "cell_type": "code",
   "execution_count": 6,
   "metadata": {},
   "outputs": [
    {
     "name": "stdout",
     "output_type": "stream",
     "text": [
      "Hello world!\n"
     ]
    }
   ],
   "source": [
    "print(\"Hello world!\")"
   ]
  },
  {
   "cell_type": "code",
   "execution_count": 7,
   "metadata": {},
   "outputs": [
    {
     "name": "stdout",
     "output_type": "stream",
     "text": [
      "Hello Python world!\n"
     ]
    }
   ],
   "source": [
    "message = \"Hello Python world!\"\n",
    "print(message)"
   ]
  },
  {
   "cell_type": "code",
   "execution_count": 9,
   "metadata": {},
   "outputs": [
    {
     "name": "stdout",
     "output_type": "stream",
     "text": [
      "Hello Python world!\n"
     ]
    }
   ],
   "source": [
    "message = \"Python world\"\n",
    "print(\"Hello \" + message + \"!\")"
   ]
  },
  {
   "cell_type": "markdown",
   "metadata": {},
   "source": [
    "#### `input`用法"
   ]
  },
  {
   "cell_type": "code",
   "execution_count": 11,
   "metadata": {},
   "outputs": [
    {
     "name": "stdout",
     "output_type": "stream",
     "text": [
      "Please enter your message: Nice to meet you, Python!\n",
      "Nice to meet you, Python!\n"
     ]
    }
   ],
   "source": [
    "message = input(\"Please enter your message: \")\n",
    "print(message)"
   ]
  },
  {
   "cell_type": "code",
   "execution_count": 13,
   "metadata": {},
   "outputs": [
    {
     "name": "stdout",
     "output_type": "stream",
     "text": [
      "Please enter your message: Python\n",
      "Nice to meet you, Python!\n"
     ]
    }
   ],
   "source": [
    "message = input(\"Please enter your message: \")\n",
    "print(\"Nice to meet you, \" + message + \"!\")"
   ]
  },
  {
   "cell_type": "markdown",
   "metadata": {},
   "source": [
    "## Python基础讲解\n",
    "### Python变量特性+命名规则\n",
    "变量用于存储与变量相关联的信息，如`message = \"Hello world!\"`中，变量`message`存储的值为文本`\"Hello world!\"`。在程序中可随时修改变量的值，而Python将始终记录变量的最新值。Python中变量的命名规则如下：\n",
    "1. 变量名只能包含字母、数字和下划线。变量名可以字母或下划线打头，但不能以数字打头\n",
    "2. 变量名不能包含空格，但可使用下划线来分隔其中的单词\n",
    "3. 不要将Python关键字和函数名用作变量名，如`print`\n",
    "4. 变量名应即简短又具有描述性，例如`name`比`n`好，`name_length`比`length_of_persons_name`好\n",
    "5. 慎用小写字母`l`和大写字母`O`，因为可能被误认为数字`1`和`0` \n",
    "\n",
    "注意：Python是动态语言，变量本身类型不固定，在定义变量时不需要制定变量类型\n",
    "### 注释方法\n",
    "用井号（#）标识"
   ]
  },
  {
   "cell_type": "code",
   "execution_count": 14,
   "metadata": {},
   "outputs": [
    {
     "name": "stdout",
     "output_type": "stream",
     "text": [
      "Hello Python people!\n"
     ]
    }
   ],
   "source": [
    "# 向大家问好\n",
    "print(\"Hello Python people!\")"
   ]
  },
  {
   "cell_type": "markdown",
   "metadata": {},
   "source": [
    "### Python中 \":\" 作用\n",
    "\":\" 出现在函数定义语句末尾、if for while语句末尾，表示下面的代码块应当缩进，从属于if for while语句"
   ]
  },
  {
   "cell_type": "code",
   "execution_count": 16,
   "metadata": {},
   "outputs": [
    {
     "name": "stdout",
     "output_type": "stream",
     "text": [
      "0\n",
      "1\n",
      "2\n"
     ]
    }
   ],
   "source": [
    "for i in range(3):\n",
    "    print(i)"
   ]
  },
  {
   "cell_type": "markdown",
   "metadata": {},
   "source": [
    "### 学会使用dir()及help()\n",
    "dir(): 用来查询一个类或者对象所有属性  \n",
    "help(): 了解模块、类型、对象、方法、属性的详细信息\n",
    "#### 举例：  \n",
    "查看python所有的关键字：help(\"keywords\")  \n",
    "查看python所有的modules：help(\"modules\")  \n",
    "查看python所有的modules中包含指定字符串的modules： help(\"modules yourstr\")  \n",
    "查看python中常见的topics： help(\"topics\")  \n",
    "查看python标准库中的module：import os.path + help(\"os.path\")  \n",
    "查看python内置的类型：help(\"list\")  \n",
    "查看python类型的成员方法：help(\"str.find\")  \n",
    "查看python内置函数：help(\"open\")\n",
    "### import使用\n",
    "import语句将一个源代码文件作为模块导入  \n",
    "\n",
    "导入模块：import module1[, module2[,... moduleN]   \n",
    "导入模块中的指定部分：from modname import name1[, name2[, ... nameN]  \n",
    "导入模块全部内容：from … import * \n",
    "### pep8介绍\n",
    "PEP8是Python的编码规范，其中心在于提高代码的可读性，详见https://www.python.org/dev/peps/pep-0008/"
   ]
  },
  {
   "cell_type": "markdown",
   "metadata": {},
   "source": [
    "## Python数值基本知识\n",
    "### Python中数值类型\n",
    "Python支持`int`、`float`、`bool`、`complex`数值类型"
   ]
  },
  {
   "cell_type": "code",
   "execution_count": 19,
   "metadata": {},
   "outputs": [
    {
     "name": "stdout",
     "output_type": "stream",
     "text": [
      "9 -1234567 2902358461\n",
      "7.77 8.7e-09\n",
      "(2+4j) (3-5j)\n",
      "False\n",
      "True\n"
     ]
    }
   ],
   "source": [
    "#整数(int)\n",
    "a=9\n",
    "b=-1234567\n",
    "c=0xacfe79bd\n",
    "print(a,b,c)\n",
    "\n",
    "#浮点数(float)\n",
    "m=7.77     #数学写法\n",
    "n=8.7e-9    #科学记数法\n",
    "print(m,n)\n",
    "\n",
    "#复数(complex)\n",
    "#可以用使用函数 complex(real, imag) 或者是带有后缀j的浮点数来指定\n",
    "p = complex(2, 4)\n",
    "q = 3 - 5j\n",
    "print(p,q)\n",
    "\n",
    "#布尔值(bool)\n",
    "#只有True、False两种值，要么是True，要么是False\n",
    "#在Python中，可以直接用True、False表示布尔值（请注意大小写），也可以通过布尔运算计算出来：\n",
    "print(3>5)\n",
    "print(5>1)"
   ]
  },
  {
   "attachments": {},
   "cell_type": "markdown",
   "metadata": {},
   "source": [
    "### 算数运算符\n",
    "加 + ：两个对象相加  \n",
    "减 - ：得到负数或是一个数减去另一个数  \n",
    "乘 * ：两个数相乘或是返回一个被重复若干次的字符串\n",
    "除 / ：x除以y\n",
    "取模 % ：返回除法的余数  \n",
    "幂 ** ：返回x的y次幂  \n",
    "取整除 // ：向下取接近除数的整数\n",
    "### 比较运算符\n",
    "等于 == ：比较对象是否相等  \n",
    "不等于 != ：比较两个对象是否不相等  \n",
    "大于 > ：返回x是否大于y。所有比较运算符返回1表示真，返回0表示假。这分别与特殊的变量True和False等价。  \n",
    "小于 < ：返回x是否小于y  \n",
    "大于等于 >= ：返回x是否大于等于y\n",
    "小于等于 <= ：返回x是否小于等于y\n",
    "### 位运算符\n",
    "按位与运算符 & ：参与运算的两个值,如果两个相应位都为1,则该位的结果为1,否则为0  \n",
    "按位或运算符 | ：只要对应的二个二进位有一个为1时，结果位就为1  \n",
    "按位异或运算符 ^ ：当两对应的二进位相异时，结果为1  \n",
    "按位取反运算符 ~ ：对数据的每个二进制位取反,即把1变为0,把0变为1  \n",
    "左移动运算符 << ：运算数的各二进位全部左移若干位，由\"<<\"右边的数指定移动的位数，高位丢弃，低位补0  \n",
    "右移动运算符 >> ：把\">>\"左边的运算数的各二进位全部右移若干位，\">>\"右边的数指定移动的位数\n",
    "### 逻辑运算符\n",
    "布尔\"与\" and ：如果 x 为 False，x and y 返回 False，否则它返回 y 的计算值  \n",
    "布尔\"或\" or ：如果 x 是 True，x or y 返回 x 的值，否则它返回 y 的计算值  \n",
    "布尔\"非\" not ：如果 x 为 True，not x 返回 False 。如果 x 为 False，它返回 True\n",
    "### 成员运算符\n",
    "in ：如果在指定的序列中找到值返回 True，否则返回 False  \n",
    "not in ：如果在指定的序列中没有找到值返回 True，否则返回 False\n",
    "### 身份运算符\n",
    "身份运算符用于比较两个对象的存储单元  \n",
    "is ：判断两个标识符是不是引用自一个对象。 x is y, 类似 id(x) == id(y) , 如果引用的是同一个对象则返回 True，否则返回 False  \n",
    "is not ：判断两个标识符是不是引用自不同对象。  x is not y ， 类似 id(a) != id(b)。如果引用的不是同一个对象则返回结果 True，否则返回 False\n",
    "### 运算符优先级\n",
    "指数 (最高优先级) **  \n",
    "按位翻转, 一元加号和减号 (最后两个的方法名为 +@ 和 -@) ~ + -  \n",
    "乘，除，取模和取整除 * / % //  \n",
    "加法减法 + -  \n",
    "右移，左移运算符 >> <<  \n",
    "位 'AND' &  \n",
    "位运算符 ^ |  \n",
    "比较运算符 <= < > >=  \n",
    "等于运算符 <> == !=  \n",
    "赋值运算符 =  \n",
    "is is not\t身份运算符 is is not  \n",
    "in not in\t成员运算符 in not in  \n",
    "not and or\t逻辑运算符 not and or"
   ]
  },
  {
   "cell_type": "code",
   "execution_count": 21,
   "metadata": {},
   "outputs": [
    {
     "name": "stdout",
     "output_type": "stream",
     "text": [
      "3\n",
      "6 9\n",
      "3.3333333333333335 3 1\n",
      "1 - 变量 a 不在给定的列表中 list 中\n",
      "2 - 变量 b 不在给定的列表中 list 中\n",
      "3 - 变量 a 在给定的列表中 list 中\n",
      "1 - a 和 b 有相同的标识\n",
      "2 - a 和 b 有相同的标识\n",
      "3 - a 和 b 没有相同的标识\n",
      "4 - a 和 b 没有相同的标识\n"
     ]
    }
   ],
   "source": [
    "#加法和减法\n",
    "m=1\n",
    "n=2\n",
    "m+=n\n",
    "print(m)\n",
    "\n",
    "#乘法和乘方\n",
    "x1=3\n",
    "x2=2\n",
    "x3=x1*x2\n",
    "x4=x1**x2\n",
    "print(x3,x4)\n",
    "\n",
    "#除法\n",
    "m=10\n",
    "n=3\n",
    "y1=m/n\n",
    "y2=m//n\n",
    "y3=m%n\n",
    "print(y1,y2,y3)\n",
    "\n",
    "#成员运算符\n",
    "a = 10\n",
    "b = 20\n",
    "list = [1, 2, 3, 4, 5] \n",
    "if ( a in list ):\n",
    "   print(\"1 - 变量 a 在给定的列表中 list 中\")\n",
    "else:\n",
    "   print(\"1 - 变量 a 不在给定的列表中 list 中\")\n",
    " \n",
    "if ( b not in list ):\n",
    "   print(\"2 - 变量 b 不在给定的列表中 list 中\")\n",
    "else:\n",
    "   print(\"2 - 变量 b 在给定的列表中 list 中\")\n",
    " \n",
    "#身份运算符\n",
    "#修改变量 a 的值\n",
    "a = 2\n",
    "if ( a in list ):\n",
    "   print (\"3 - 变量 a 在给定的列表中 list 中\")\n",
    "else:\n",
    "   print (\"3 - 变量 a 不在给定的列表中 list 中\")\n",
    "\n",
    "a = 20\n",
    "b = 20\n",
    " \n",
    "if ( a is b ):\n",
    "   print (\"1 - a 和 b 有相同的标识\")\n",
    "else:\n",
    "   print (\"1 - a 和 b 没有相同的标识\")\n",
    " \n",
    "if ( id(a) == id(b) ):\n",
    "   print (\"2 - a 和 b 有相同的标识\")\n",
    "else:\n",
    "   print (\"2 - a 和 b 没有相同的标识\")\n",
    " \n",
    "#修改变量 b 的值\n",
    "b = 30\n",
    "if ( a is b ):\n",
    "   print (\"3 - a 和 b 有相同的标识\")\n",
    "else:\n",
    "   print (\"3 - a 和 b 没有相同的标识\")\n",
    " \n",
    "if ( a is not b ):\n",
    "   print (\"4 - a 和 b 没有相同的标识\")\n",
    "else:\n",
    "   print (\"4 - a 和 b 有相同的标识\")"
   ]
  },
  {
   "cell_type": "code",
   "execution_count": null,
   "metadata": {},
   "outputs": [],
   "source": []
  }
 ],
 "metadata": {
  "kernelspec": {
   "display_name": "Python 3",
   "language": "python",
   "name": "python3"
  },
  "language_info": {
   "codemirror_mode": {
    "name": "ipython",
    "version": 3
   },
   "file_extension": ".py",
   "mimetype": "text/x-python",
   "name": "python",
   "nbconvert_exporter": "python",
   "pygments_lexer": "ipython3",
   "version": "3.7.3"
  }
 },
 "nbformat": 4,
 "nbformat_minor": 2
}
