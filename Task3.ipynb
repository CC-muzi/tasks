{
 "cells": [
  {
   "cell_type": "markdown",
   "metadata": {},
   "source": [
    "# Python字典 集合 判断 循环\n",
    "## 1.dict字典\n",
    "### 定义\n",
    "在Python中，字典（dict）是一系列键—值（`key-value`）对 。每个`key`都与一个`value`相关联，可以使用`key`来访问与之相关联的`value`。\n",
    "\n",
    "与`key`相关联的`value`可以是数字、字符串、列表乃至字典。事实上，可将任何Python对象用作字典中的值。\n",
    "\n",
    "`key`必须是唯一的，但`value`则不必。\n",
    "\n",
    "`value`可以取任何数据类型，但`key`必须是不可变的，如字符串，数字或元组。\n",
    "### 创建\n",
    "字典的每个键值（`key => value`）对用冒号（`:`）分割，每个对之间用逗号（`,`）分割，整个字典包括在花括号（`{}`）中"
   ]
  },
  {
   "cell_type": "code",
   "execution_count": 4,
   "metadata": {},
   "outputs": [
    {
     "name": "stdout",
     "output_type": "stream",
     "text": [
      "{'color': 'green', 'points': 5}\n",
      "The color of Alien 0 is green.\n",
      "You just earned 5 points!\n",
      "{'color': 'green', 'points': 5, 'x_position': 0, 'y_position': 25}\n",
      "The color of Alien 0 is yellow now.\n",
      "{'color': 'yellow', 'x_position': 0, 'y_position': 25}\n"
     ]
    }
   ],
   "source": [
    "# 创建一个字典\n",
    "alien_0 = {'color': 'green', 'points': 5}\n",
    "print(alien_0)\n",
    "\n",
    "# 访问字典中的值\n",
    "print(\"The color of Alien 0 is \" + alien_0['color'] + \".\")\n",
    "new_points = alien_0['points']\n",
    "print(\"You just earned \" + str(new_points) + \" points!\")\n",
    "\n",
    "# 添加键值对\n",
    "alien_0['x_position'] = 0\n",
    "alien_0['y_position'] = 25\n",
    "print(alien_0)\n",
    "\n",
    "# 修改字典中的值\n",
    "alien_0['color'] = 'yellow'\n",
    "print(\"The color of Alien 0 is \" + alien_0['color'] + \" now.\")\n",
    "\n",
    "# 删除键值对\n",
    "del alien_0['points']\n",
    "print(alien_0)"
   ]
  },
  {
   "cell_type": "markdown",
   "metadata": {},
   "source": [
    "### 字典的方法\n",
    "Python字典包含了以下内置函数：\n",
    "\n",
    "- `len(dict)`：计算字典元素个数，即键的总数。\n",
    "- `str(dict)`：输出字典，以可打印的字符串表示。\t\n",
    "- `type(variable)`：返回输入的变量类型，如果变量是字典就返回字典类型。\t"
   ]
  },
  {
   "cell_type": "code",
   "execution_count": 5,
   "metadata": {},
   "outputs": [
    {
     "name": "stdout",
     "output_type": "stream",
     "text": [
      "3\n",
      "{'Name': 'Jenny', 'Age': 7, 'Class': 'First'}\n",
      "<class 'dict'>\n"
     ]
    }
   ],
   "source": [
    "# 创建一个字典\n",
    "dict = {'Name': 'Jenny', 'Age': 7, 'Class': 'First'}\n",
    "print(len(dict))\n",
    "print(str(dict))\n",
    "print(type(dict))"
   ]
  },
  {
   "cell_type": "markdown",
   "metadata": {},
   "source": [
    "Python字典包含了以下内置方法：\n",
    "\n",
    "- `radiansdict.clear()`：删除字典内所有元素。\n",
    "- `radiansdict.copy()`：返回一个字典的浅复制。\n",
    "- `radiansdict.fromkeys()`：创建一个新字典，以序列`seq`中元素做字典的键，`val`为字典所有键对应的初始值。\n",
    "- `radiansdict.get(key, default=None)`：返回指定键的值，如果值不在字典中返回`default`值。\n",
    "- `key in dict`：如果键在字典`dict`里返回`true`，否则返回`false`。\n",
    "- `radiansdict.items()`：以列表返回可遍历的(键, 值) 元组数组。\n",
    "- `radiansdict.keys()`：返回一个迭代器，可以使用`list()`来转换为列表。\n",
    "- `radiansdict.setdefault(key, default=None)`：和`get()`类似, 但如果键不存在于字典中，将会添加键并将值设为`default`。\n",
    "- `radiansdict.update(dict2)`：把字典`dict2`的键/值对更新到`dict`里。\n",
    "- `radiansdict.values()`：返回一个迭代器，可以使用`list()`来转换为列表。\n",
    "- `pop(key[,default])`：删除字典给定键`key`所对应的值，返回值为被删除的值。`key`值必须给出。否则，返回`default`值。\n",
    "- `popitem()`：随机返回并删除字典中的一对键和值(一般删除末尾对)。"
   ]
  },
  {
   "cell_type": "markdown",
   "metadata": {},
   "source": [
    "## 2.集合\n",
    "### 特性\n",
    "集合（set）是一个无序的不重复元素序列。\n",
    "\n",
    "set和dict类似，也是一组`key`的集合，但不存储`value`。由于`key`不能重复，所以，在`set`中，没有重复的`key`。\n",
    "### 创建\n",
    "可以使用大括号（`{}`）或者`set()`函数创建集合。注意：创建一个空集合必须用`set()`而不是`{}`，因为`{}`是用来创建一个空字典。"
   ]
  },
  {
   "cell_type": "code",
   "execution_count": 6,
   "metadata": {},
   "outputs": [
    {
     "name": "stdout",
     "output_type": "stream",
     "text": [
      "{'orange', 'pear', 'banana', 'apple'}\n",
      "{'c', 'd', 'b', 'a'}\n",
      "{'e', 'f', 'k', 'b', 'a', 'c', 'j', 'g', 'd', 'h', 'i'}\n",
      "{'e', 'f', 'g'}\n",
      "{'k', 'b', 'a', 'c', 'j', 'd', 'h', 'i'}\n"
     ]
    }
   ],
   "source": [
    "# 创建一个集合\n",
    "basket = {'apple', 'orange', 'apple', 'pear', 'orange', 'banana'}\n",
    "print(basket)         # 去重功能\n",
    "\n",
    "# 集合间的运算\n",
    "a = set('abcdefg')\n",
    "b = set('efghijk')\n",
    "print(a - b)          # 集合a中包含而集合b中不包含的元素\n",
    "print(a | b)          # 集合a或b中包含的所有元素\n",
    "print(a & b)          # 集合a和b中都包含了的元素\n",
    "print(a ^ b)          # 不同时包含于a和b的元素"
   ]
  },
  {
   "cell_type": "markdown",
   "metadata": {},
   "source": [
    "### 方法\n",
    "集合内置方法有：\n",
    "\n",
    "- `add()`：为集合添加元素。\n",
    "- `clear()`：移除集合中的所有元素。\n",
    "- `copy()`：拷贝一个集合。\n",
    "- `difference()`：返回多个集合的差集。\n",
    "- `difference_update()`：移除集合中的元素，该元素在指定的集合也存在。\n",
    "- `discard()`：删除集合中指定的元素。\n",
    "- `intersection()`：返回集合的交集。\n",
    "- `intersection_update()`：返回集合的交集。\n",
    "- `isdisjoint()`：判断两个集合是否包含相同的元素，如果没有返回`True`，否则返回`False`。\n",
    "- `issubset()`：判断指定集合是否为该方法参数集合的子集。\n",
    "- `issuperset()`：判断该方法的参数集合是否为指定集合的子集。\n",
    "- `pop()`：随机移除元素。\n",
    "- `remove()`：移除指定元素。\n",
    "- `symmetric_difference()`：返回两个集合中不重复的元素集合。\n",
    "- `symmetric_difference_update()`：移除当前集合中在另外一个指定集合相同的元素，并将另外一个指定集合中不同的元素插入到当前集合中。\n",
    "- `union()`：返回两个集合的并集。\n",
    "- `update()`：给集合添加元素。"
   ]
  },
  {
   "cell_type": "markdown",
   "metadata": {},
   "source": [
    "## 3.判断语句\n",
    "Python中`if`语句的一般形式如下所示："
   ]
  },
  {
   "cell_type": "code",
   "execution_count": null,
   "metadata": {},
   "outputs": [],
   "source": [
    "if condition_1:\n",
    "    statement_block_1\n",
    "elif condition_2:\n",
    "    statement_block_2\n",
    "else:\n",
    "    statement_block_3"
   ]
  },
  {
   "cell_type": "markdown",
   "metadata": {},
   "source": [
    "- 如果`\"condition_1\"`为`True`将执行`\"statement_block_1\"`块语句\n",
    "- 如果`\"condition_1\"`为`False`，将判断`\"condition_2\"`\n",
    "- 如果`\"condition_2\"`为`True`将执行`\"statement_block_2\"`块语句\n",
    "- 如果`\"condition_2\"`为`False`，将执行`\"statement_block_3\"`块语句\n",
    "\n",
    "Python中用`elif`代替了`else if`，所以`if`语句的关键字为：`if – elif – else`。\n",
    "\n",
    "注意：\n",
    "\n",
    "- 每个条件后面要使用冒号`:`，表示接下来是满足条件后要执行的语句块。\n",
    "- 使用缩进来划分语句块，相同缩进数的语句在一起组成一个语句块。\n",
    "- 在Python中没有`switch - case`语句。"
   ]
  },
  {
   "cell_type": "code",
   "execution_count": 1,
   "metadata": {},
   "outputs": [
    {
     "name": "stdout",
     "output_type": "stream",
     "text": [
      "数字猜谜游戏!\n",
      "请输入你猜的数字：18\n",
      "猜的数字大了...\n",
      "请输入你猜的数字：9\n",
      "猜的数字大了...\n",
      "请输入你猜的数字：5\n",
      "猜的数字小了...\n",
      "请输入你猜的数字：7\n",
      "恭喜，你猜对了！\n"
     ]
    }
   ],
   "source": [
    "# 数字猜谜游戏\n",
    "number = 7\n",
    "guess = -1\n",
    "print(\"数字猜谜游戏!\")\n",
    "while guess != number:\n",
    "    guess = int(input(\"请输入你猜的数字：\"))\n",
    " \n",
    "    if guess == number:\n",
    "        print(\"恭喜，你猜对了！\")\n",
    "    elif guess < number:\n",
    "        print(\"猜的数字小了...\")\n",
    "    elif guess > number:\n",
    "        print(\"猜的数字大了...\")"
   ]
  },
  {
   "cell_type": "code",
   "execution_count": 2,
   "metadata": {},
   "outputs": [
    {
     "name": "stdout",
     "output_type": "stream",
     "text": [
      "输入一个数字：9\n",
      "你输入的数字可以整除 3，但不能整除 2\n"
     ]
    }
   ],
   "source": [
    "# if嵌套\n",
    "num=int(input(\"输入一个数字：\"))\n",
    "if num%2==0:\n",
    "    if num%3==0:\n",
    "        print (\"你输入的数字可以整除 2 和 3\")\n",
    "    else:\n",
    "        print (\"你输入的数字可以整除 2，但不能整除 3\")\n",
    "else:\n",
    "    if num%3==0:\n",
    "        print (\"你输入的数字可以整除 3，但不能整除 2\")\n",
    "    else:\n",
    "        print  (\"你输入的数字不能整除 2 和 3\")"
   ]
  },
  {
   "cell_type": "markdown",
   "metadata": {},
   "source": [
    "## 4.三目表达式\n",
    "Python中三目表达式形式为：条件为真时的结果 `if`判段的条件 `else`条件为假时的结果 "
   ]
  },
  {
   "cell_type": "code",
   "execution_count": 6,
   "metadata": {},
   "outputs": [
    {
     "name": "stdout",
     "output_type": "stream",
     "text": [
      "please enter first integer:9\n",
      "please enter second integer:10\n",
      "The larger integer is: 10\n"
     ]
    }
   ],
   "source": [
    "# 三目表达式\n",
    "x = int(input(\"please enter first integer:\"))\n",
    "y = int(input(\"please enter second integer:\"))\n",
    "if x == y:\n",
    "    print(\"These two integers are the same!\")\n",
    "else:\n",
    "    print(\"The larger integer is: \" + str(x if(x>y) else y))"
   ]
  },
  {
   "cell_type": "markdown",
   "metadata": {},
   "source": [
    "## 5.循环语句\n",
    "Python中的循环语句有`for`和`while`。\n",
    "\n",
    "Python中`while`语句的一般形式："
   ]
  },
  {
   "cell_type": "code",
   "execution_count": null,
   "metadata": {},
   "outputs": [],
   "source": [
    "while condition:\n",
    "    statement_block_1\n",
    "else:\n",
    "    statement_block_2"
   ]
  },
  {
   "cell_type": "markdown",
   "metadata": {},
   "source": [
    "Python中`for`循环可以遍历任何序列的项目，如一个列表或者一个字符串。\n",
    "\n",
    "`for`循环的一般格式如下："
   ]
  },
  {
   "cell_type": "code",
   "execution_count": null,
   "metadata": {},
   "outputs": [],
   "source": [
    "for <variable> in <sequence>:\n",
    "    <statements>\n",
    "else:\n",
    "    <statements>"
   ]
  },
  {
   "cell_type": "markdown",
   "metadata": {},
   "source": [
    "同样需要注意冒号和缩进。另外，在Python中没有`do..while`循环。"
   ]
  },
  {
   "cell_type": "code",
   "execution_count": 8,
   "metadata": {},
   "outputs": [
    {
     "name": "stdout",
     "output_type": "stream",
     "text": [
      "当期变量值为 : 10\n",
      "当期变量值为 : 9\n",
      "当期变量值为 : 8\n",
      "当期变量值为 : 7\n",
      "当期变量值为 : 6\n",
      "Good bye!\n",
      "当前字母 : h\n",
      "当前字母 : e\n",
      "当前字母 : l\n",
      "当前字母 : l\n",
      "当前字母 : h\n",
      "当前字母 : i\n",
      "Good bye!\n",
      "0 Google\n",
      "1 Baidu\n",
      "2 Runoob\n",
      "3 Taobao\n",
      "4 QQ\n"
     ]
    }
   ],
   "source": [
    "# while循环\n",
    "var = 10                    \n",
    "while var > 0:\n",
    "    print('当期变量值为 :', var)\n",
    "    var = var -1\n",
    "    if var == 5:\n",
    "        break                      # break语句跳出循环，循环终止\n",
    "print(\"Good bye!\")\n",
    "\n",
    "# for循环\n",
    "for letter in 'hellooooohi':\n",
    "    if letter == 'o':              # 字母为o时跳过输出\n",
    "        continue                  # continue语句跳过当前循环块剩余语句，继续进行下一轮循环\n",
    "    print ('当前字母 :', letter)\n",
    "print(\"Good bye!\")\n",
    "\n",
    "# for循环\n",
    "a = ['Google', 'Baidu', 'Runoob', 'Taobao', 'QQ']\n",
    "for i in range(len(a)):            # 结合range()和len()函数以遍历一个序列的索引\n",
    "    print(i, a[i])"
   ]
  },
  {
   "cell_type": "code",
   "execution_count": null,
   "metadata": {},
   "outputs": [],
   "source": []
  }
 ],
 "metadata": {
  "kernelspec": {
   "display_name": "Python 3",
   "language": "python",
   "name": "python3"
  },
  "language_info": {
   "codemirror_mode": {
    "name": "ipython",
    "version": 3
   },
   "file_extension": ".py",
   "mimetype": "text/x-python",
   "name": "python",
   "nbconvert_exporter": "python",
   "pygments_lexer": "ipython3",
   "version": "3.7.3"
  }
 },
 "nbformat": 4,
 "nbformat_minor": 2
}
