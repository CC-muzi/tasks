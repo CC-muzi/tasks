{
 "cells": [
  {
   "cell_type": "markdown",
   "metadata": {},
   "source": [
    "# Python函数 文件 OS模块\n",
    "## 1.函数关键字\n",
    "Python中函数涉及的关键字有\n",
    "- 定义函数关键字`def`\n",
    "- 函数返回值关键字`return`\n",
    "\n",
    "## 2.函数的定义\n",
    "在Python中，定义一个函数要使用`def`语句，依次写出函数名、括号、括号中的参数和冒号`:`，然后，在缩进块中编写函数体，函数的返回值用`return`语句返回。\n"
   ]
  },
  {
   "cell_type": "code",
   "execution_count": 2,
   "metadata": {},
   "outputs": [
    {
     "name": "stdout",
     "output_type": "stream",
     "text": [
      "Hello!\n",
      "Jimi Hendrix\n"
     ]
    }
   ],
   "source": [
    "# 定义一个无参数变量无返回值的函数\n",
    "def greet_user():\n",
    "    \"\"\"显示简单的问候语\"\"\"\n",
    "    print(\"Hello!\")\n",
    "# 调用该函数\n",
    "greet_user()\n",
    "\n",
    "# 定义一个有参数变量有返回值的函数\n",
    "def get_formatted_name(first_name, last_name):\n",
    "    \"\"\"返回整洁的姓名\"\"\"\n",
    "    full_name = first_name + ' ' + last_name\n",
    "    return full_name.title()\n",
    "# 调用该函数\n",
    "musician = get_formatted_name('jimi', 'hendrix')\n",
    "print(musician)"
   ]
  },
  {
   "cell_type": "markdown",
   "metadata": {},
   "source": [
    "## 3.函数参数与作用域\n",
    "### 参数传递\n",
    "python函数的参数传递：\n",
    "- 不可变类型：类似`c++`的值传递，如整数、字符串、元组。如`fun(a)`，传递的只是`a`的值，没有影响`a`对象本身。比如在`fun(a)`内部修改`a`的值，只是修改另一个复制的对象，不会影响`a`本身。\n",
    "- 可变类型：类似`c++`的引用传递，如列表，字典。如`fun(la)`，则是将`la`真正的传过去，修改后`fun`外部的`la`也会受影响。\n",
    "\n",
    "python中一切都是对象，严格意义我们不能说值传递还是引用传递，我们应该说传不可变对象和传可变对象。\n",
    "### 函数参数\n",
    "以下是调用函数时可使用的正式参数类型：\n",
    "- 必需参数\n",
    "- 关键字参数\n",
    "- 默认参数\n",
    "- 不定长参数\n",
    "\n",
    "#### 必需参数\n",
    "必需参数（位置参数）须以正确的顺序传入函数。调用时的数量必须和声明时的一样。"
   ]
  },
  {
   "cell_type": "code",
   "execution_count": 3,
   "metadata": {},
   "outputs": [
    {
     "name": "stdout",
     "output_type": "stream",
     "text": [
      "\n",
      "I have a hamster.\n",
      "My hamster's name is Harry.\n",
      "\n",
      "I have a dog.\n",
      "My dog's name is Willie.\n"
     ]
    }
   ],
   "source": [
    "# 定义一个函数\n",
    "def describe_pet(animal_type, pet_name):\n",
    "    \"\"\"显示宠物的信息\"\"\"\n",
    "    print(\"\\nI have a \" + animal_type + \".\")\n",
    "    print(\"My \" + animal_type + \"'s name is \" + pet_name.title() + \".\")\n",
    "# 位置实参调用函数，实参顺序与数量与形参一致\n",
    "describe_pet('hamster', 'harry')\n",
    "describe_pet('dog', 'willie')"
   ]
  },
  {
   "cell_type": "markdown",
   "metadata": {},
   "source": [
    "#### 关键字参数\n",
    "使用关键字参数允许函数调用时参数的顺序与声明时不一致，因为Python解释器能够用参数名匹配参数值。"
   ]
  },
  {
   "cell_type": "code",
   "execution_count": 4,
   "metadata": {},
   "outputs": [
    {
     "name": "stdout",
     "output_type": "stream",
     "text": [
      "\n",
      "I have a hamster.\n",
      "My hamster's name is Harry.\n"
     ]
    }
   ],
   "source": [
    "# 重写上述函数\n",
    "def describe_pet(animal_type, pet_name):\n",
    "    \"\"\"显示宠物的信息\"\"\"\n",
    "    print(\"\\nI have a \" + animal_type + \".\")\n",
    "    print(\"My \" + animal_type + \"'s name is \" + pet_name.title() + \".\")\n",
    "# 关键字实参调用函数，改变实参顺序\n",
    "describe_pet(pet_name='harry', animal_type='hamster')"
   ]
  },
  {
   "cell_type": "markdown",
   "metadata": {},
   "source": [
    "#### 默认参数\n",
    "调用函数时，如果没有传递参数，则会使用默认参数。"
   ]
  },
  {
   "cell_type": "code",
   "execution_count": 5,
   "metadata": {},
   "outputs": [
    {
     "name": "stdout",
     "output_type": "stream",
     "text": [
      "\n",
      "I have a dog.\n",
      "My dog's name is Willie.\n",
      "\n",
      "I have a hamster.\n",
      "My hamster's name is Harry.\n"
     ]
    }
   ],
   "source": [
    "# 使用默认参数定义上述函数\n",
    "def describe_pet(pet_name, animal_type = 'dog'):\n",
    "    \"\"\"显示宠物的信息\"\"\"\n",
    "    print(\"\\nI have a \" + animal_type + \".\")\n",
    "    print(\"My \" + animal_type + \"'s name is \" + pet_name.title() + \".\")\n",
    "# 使用默认参数调用函数\n",
    "describe_pet('willie')\n",
    "# 不使用默认参数\n",
    "describe_pet(pet_name='harry', animal_type='hamster')"
   ]
  },
  {
   "cell_type": "markdown",
   "metadata": {},
   "source": [
    "#### 不定长参数\n",
    "若需要函数处理比当初声明时更多的参数，则需要使用不定长参数。和上述2种参数不同，声明时不会命名。基本语法如下：\n",
    "\n",
    "    def functionname([formal_args,] *var_args_tuple ):\n",
    "       \"函数_文档字符串\"\n",
    "       function_suite\n",
    "       return [expression]\n",
    "加了星号`*`的参数会以元组（`tuple`）的形式导入，存放所有未命名的变量参数。\n",
    "\n",
    "还有一种就是参数带两个星号`**`基本语法如下：\n",
    "\n",
    "    def functionname([formal_args,] **var_args_dict ):\n",
    "       \"函数_文档字符串\"\n",
    "       function_suite\n",
    "       return [expression]\n",
    "加了两个星号`**`的参数会以字典的形式导入。"
   ]
  },
  {
   "cell_type": "code",
   "execution_count": 6,
   "metadata": {},
   "outputs": [
    {
     "name": "stdout",
     "output_type": "stream",
     "text": [
      "输出: \n",
      "70\n",
      "(60, 50)\n",
      "输出: \n",
      "1\n",
      "{'a': 2, 'b': 3}\n"
     ]
    }
   ],
   "source": [
    "# 定义包含不定长参数的函数，以元组形式导入\n",
    "def printinfo( arg1, *vartuple ):\n",
    "    \"\"\"打印任何传入的参数\"\"\"\n",
    "    print (\"输出: \")\n",
    "    print (arg1)\n",
    "    print (vartuple)\n",
    "# 调用printinfo 函数\n",
    "printinfo(70, 60, 50)\n",
    "\n",
    "# 重新定义包含不定长参数的函数，以字典形式导入\n",
    "def printinfo( arg1, **vardict ):\n",
    "    \"\"\"打印任何传入的参数\"\"\"\n",
    "    print (\"输出: \")\n",
    "    print (arg1)\n",
    "    print (vardict)\n",
    "# 调用printinfo 函数\n",
    "printinfo(1, a=2, b=3)"
   ]
  },
  {
   "cell_type": "markdown",
   "metadata": {},
   "source": [
    "### 变量作用域\n",
    "Python中，程序的变量并不是在哪个位置都可以访问的，访问权限决定于这个变量是在哪里赋值的。\n",
    "\n",
    "变量的作用域决定了在哪一部分程序可以访问哪个特定的变量名称。Python的作用域一共有4种，分别是：\n",
    "- L （Local） 局部作用域\n",
    "- E （Enclosing） 闭包函数外的函数中\n",
    "- G （Global） 全局作用域\n",
    "- B （Built-in） 内置作用域（内置函数所在模块的范围）\n",
    "\n",
    "以 `L –> E –> G –>B` 的规则查找，即：在局部找不到，便会去局部外的局部找（例如闭包），再找不到就会去全局找，再者去内置中找。\n",
    "\n",
    "    g_count = 0  # 全局作用域\n",
    "    def outer():\n",
    "        o_count = 1  # 闭包函数外的函数中\n",
    "        def inner():\n",
    "            i_count = 2  # 局部作用域\n",
    "内置作用域是通过一个名为`builtin`的标准模块来实现的，但是这个变量名自身并没有放入内置作用域内，所以必须导入这个文件才能够使用它。\n",
    "\n",
    "在Python3.0中，可以使用以下的代码来查看到底预定义了哪些变量："
   ]
  },
  {
   "cell_type": "code",
   "execution_count": 7,
   "metadata": {
    "collapsed": true
   },
   "outputs": [
    {
     "data": {
      "text/plain": [
       "['ArithmeticError',\n",
       " 'AssertionError',\n",
       " 'AttributeError',\n",
       " 'BaseException',\n",
       " 'BlockingIOError',\n",
       " 'BrokenPipeError',\n",
       " 'BufferError',\n",
       " 'BytesWarning',\n",
       " 'ChildProcessError',\n",
       " 'ConnectionAbortedError',\n",
       " 'ConnectionError',\n",
       " 'ConnectionRefusedError',\n",
       " 'ConnectionResetError',\n",
       " 'DeprecationWarning',\n",
       " 'EOFError',\n",
       " 'Ellipsis',\n",
       " 'EnvironmentError',\n",
       " 'Exception',\n",
       " 'False',\n",
       " 'FileExistsError',\n",
       " 'FileNotFoundError',\n",
       " 'FloatingPointError',\n",
       " 'FutureWarning',\n",
       " 'GeneratorExit',\n",
       " 'IOError',\n",
       " 'ImportError',\n",
       " 'ImportWarning',\n",
       " 'IndentationError',\n",
       " 'IndexError',\n",
       " 'InterruptedError',\n",
       " 'IsADirectoryError',\n",
       " 'KeyError',\n",
       " 'KeyboardInterrupt',\n",
       " 'LookupError',\n",
       " 'MemoryError',\n",
       " 'ModuleNotFoundError',\n",
       " 'NameError',\n",
       " 'None',\n",
       " 'NotADirectoryError',\n",
       " 'NotImplemented',\n",
       " 'NotImplementedError',\n",
       " 'OSError',\n",
       " 'OverflowError',\n",
       " 'PendingDeprecationWarning',\n",
       " 'PermissionError',\n",
       " 'ProcessLookupError',\n",
       " 'RecursionError',\n",
       " 'ReferenceError',\n",
       " 'ResourceWarning',\n",
       " 'RuntimeError',\n",
       " 'RuntimeWarning',\n",
       " 'StopAsyncIteration',\n",
       " 'StopIteration',\n",
       " 'SyntaxError',\n",
       " 'SyntaxWarning',\n",
       " 'SystemError',\n",
       " 'SystemExit',\n",
       " 'TabError',\n",
       " 'TimeoutError',\n",
       " 'True',\n",
       " 'TypeError',\n",
       " 'UnboundLocalError',\n",
       " 'UnicodeDecodeError',\n",
       " 'UnicodeEncodeError',\n",
       " 'UnicodeError',\n",
       " 'UnicodeTranslateError',\n",
       " 'UnicodeWarning',\n",
       " 'UserWarning',\n",
       " 'ValueError',\n",
       " 'Warning',\n",
       " 'WindowsError',\n",
       " 'ZeroDivisionError',\n",
       " '__IPYTHON__',\n",
       " '__build_class__',\n",
       " '__debug__',\n",
       " '__doc__',\n",
       " '__import__',\n",
       " '__loader__',\n",
       " '__name__',\n",
       " '__package__',\n",
       " '__spec__',\n",
       " 'abs',\n",
       " 'all',\n",
       " 'any',\n",
       " 'ascii',\n",
       " 'bin',\n",
       " 'bool',\n",
       " 'breakpoint',\n",
       " 'bytearray',\n",
       " 'bytes',\n",
       " 'callable',\n",
       " 'chr',\n",
       " 'classmethod',\n",
       " 'compile',\n",
       " 'complex',\n",
       " 'copyright',\n",
       " 'credits',\n",
       " 'delattr',\n",
       " 'dict',\n",
       " 'dir',\n",
       " 'display',\n",
       " 'divmod',\n",
       " 'enumerate',\n",
       " 'eval',\n",
       " 'exec',\n",
       " 'filter',\n",
       " 'float',\n",
       " 'format',\n",
       " 'frozenset',\n",
       " 'get_ipython',\n",
       " 'getattr',\n",
       " 'globals',\n",
       " 'hasattr',\n",
       " 'hash',\n",
       " 'help',\n",
       " 'hex',\n",
       " 'id',\n",
       " 'input',\n",
       " 'int',\n",
       " 'isinstance',\n",
       " 'issubclass',\n",
       " 'iter',\n",
       " 'len',\n",
       " 'license',\n",
       " 'list',\n",
       " 'locals',\n",
       " 'map',\n",
       " 'max',\n",
       " 'memoryview',\n",
       " 'min',\n",
       " 'next',\n",
       " 'object',\n",
       " 'oct',\n",
       " 'open',\n",
       " 'ord',\n",
       " 'pow',\n",
       " 'print',\n",
       " 'property',\n",
       " 'range',\n",
       " 'repr',\n",
       " 'reversed',\n",
       " 'round',\n",
       " 'set',\n",
       " 'setattr',\n",
       " 'slice',\n",
       " 'sorted',\n",
       " 'staticmethod',\n",
       " 'str',\n",
       " 'sum',\n",
       " 'super',\n",
       " 'tuple',\n",
       " 'type',\n",
       " 'vars',\n",
       " 'zip']"
      ]
     },
     "execution_count": 7,
     "metadata": {},
     "output_type": "execute_result"
    }
   ],
   "source": [
    "import builtins\n",
    "dir(builtins)"
   ]
  },
  {
   "cell_type": "markdown",
   "metadata": {},
   "source": [
    "Python中只有模块（`module`），类（`class`）以及函数（`def`、`lambda`）才会引入新的作用域，其它的代码块（如`if/elif/else/`、`try/except`、`for/while`等）是不会引入新的作用域的，也就是说这些语句内定义的变量，外部也可以访问。\n",
    "#### 局部变量与全局变量\n",
    "定义在函数内部的变量拥有一个局部作用域，定义在函数外的拥有全局作用域。\n",
    "\n",
    "局部变量只能在其被声明的函数内部访问，而全局变量可以在整个程序范围内访问。调用函数时，所有在函数内声明的变量名称都将被加入到作用域中。"
   ]
  },
  {
   "cell_type": "code",
   "execution_count": 9,
   "metadata": {},
   "outputs": [
    {
     "name": "stdout",
     "output_type": "stream",
     "text": [
      "函数内是局部变量:  30\n",
      "函数外是全局变量:  0\n"
     ]
    }
   ],
   "source": [
    "# 定义一个全局变量total\n",
    "total = 0\n",
    "# 定义sum()函数\n",
    "def sum( arg1, arg2 ):\n",
    "    \"\"\"返回2个参数的和\"\"\"\n",
    "    # total在这里是局部变量\n",
    "    total = arg1 + arg2 \n",
    "    print (\"函数内是局部变量: \", total)\n",
    "    return total\n",
    " \n",
    "#调用sum()函数\n",
    "sum( 10, 20 )\n",
    "print (\"函数外是全局变量: \", total)"
   ]
  },
  {
   "cell_type": "markdown",
   "metadata": {},
   "source": [
    "#### `global`和`nonlocal`关键字\n",
    "当内部作用域想修改外部作用域的变量时，就要用到`global`和`nonlocal`关键字了。"
   ]
  },
  {
   "cell_type": "code",
   "execution_count": 10,
   "metadata": {},
   "outputs": [
    {
     "name": "stdout",
     "output_type": "stream",
     "text": [
      "1\n",
      "123\n",
      "123\n"
     ]
    }
   ],
   "source": [
    "num = 1\n",
    "def fun1():\n",
    "    # 修改全局变量\n",
    "    global num  # 需要使用 global 关键字声明\n",
    "    print(num) \n",
    "    num = 123\n",
    "    print(num)\n",
    "fun1()\n",
    "print(num)"
   ]
  },
  {
   "cell_type": "markdown",
   "metadata": {},
   "source": [
    "如果要修改嵌套作用域（`enclosing`作用域，外层非全局作用域）中的变量则需要`nonlocal`关键字了。"
   ]
  },
  {
   "cell_type": "code",
   "execution_count": 11,
   "metadata": {},
   "outputs": [
    {
     "name": "stdout",
     "output_type": "stream",
     "text": [
      "100\n",
      "100\n"
     ]
    }
   ],
   "source": [
    "def outer():\n",
    "    num = 10\n",
    "    def inner():\n",
    "        # 修改嵌套作用域\n",
    "        nonlocal num   # nonlocal关键字声明\n",
    "        num = 100\n",
    "        print(num)\n",
    "    inner()\n",
    "    print(num)\n",
    "outer()"
   ]
  },
  {
   "cell_type": "markdown",
   "metadata": {},
   "source": [
    "## 4.函数返回值\n",
    "函数并非总是直接显示输出，相反，它可以处理一些数据，并返回一个或一组值。函数返回的值被称为返回值。\n",
    "\n",
    "在函数中，可使用`return`语句将值返回到调用函数的代码行。\n",
    "\n",
    "函数可返回任何类型的值，包括列表和字典等较复杂的数据结构。"
   ]
  },
  {
   "cell_type": "code",
   "execution_count": 12,
   "metadata": {},
   "outputs": [
    {
     "name": "stdout",
     "output_type": "stream",
     "text": [
      "Jimi Hendrix\n",
      "John Lee Hooker\n",
      "{'first': 'jimi', 'last': 'hendrix', 'age': 27}\n"
     ]
    }
   ],
   "source": [
    "# 定义 get_formatted_name 函数，实参为可选的\n",
    "def get_formatted_name(first_name, last_name, middle_name=''):\n",
    "    \"\"\"返回整洁的姓名\"\"\"\n",
    "    if middle_name:\n",
    "        full_name = first_name + ' ' + middle_name + ' ' + last_name\n",
    "    else:\n",
    "        full_name = first_name + ' ' + last_name\n",
    "    return full_name.title()\n",
    "# 调用函数\n",
    "musician = get_formatted_name('jimi', 'hendrix')\n",
    "print(musician)\n",
    "musician = get_formatted_name('john', 'hooker', 'lee')\n",
    "print(musician)\n",
    "\n",
    "# 定义 build_person 函数，返回值为字典\n",
    "def build_person(first_name, last_name, age=''):\n",
    "    \"\"\"返回一个字典，其中包含有关一个人的信息\"\"\"\n",
    "    person = {'first': first_name, 'last': last_name}\n",
    "    if age:\n",
    "        person['age'] = age\n",
    "    return person\n",
    "\n",
    "musician = build_person('jimi', 'hendrix', age=27)\n",
    "print(musician)"
   ]
  },
  {
   "cell_type": "markdown",
   "metadata": {},
   "source": [
    "## 5.file\n",
    "### 打开文件方式\n",
    "#### 读方式\n",
    "Python`open()`方法用于打开一个文件，并返回文件对象，在对文件进行处理过程都需要使用到这个函数，如果该文件无法被打开，会抛出`OSError`。\n",
    "\n",
    "注意：使用`open()`方法一定要保证关闭文件对象，即调用`close()`方法。\n",
    "\n",
    "`open()`函数常用形式是接收两个参数：文件名(file)和模式(mode)。\n",
    "\n",
    "    open(file, mode='r')\n",
    "完整的语法格式为：\n",
    "\n",
    "    open(file, mode='r', buffering=-1, encoding=None, errors=None, newline=None, closefd=True, opener=None)\n",
    "参数说明:\n",
    "- `file`: 必需，文件路径（相对或者绝对路径）。\n",
    "- `mode`: 可选，文件打开模式\n",
    "- `buffering`: 设置缓冲\n",
    "- `encoding`: 一般使用utf8\n",
    "- `errors`: 报错级别\n",
    "- `newline`: 区分换行符\n",
    "- `closefd`: 传入的file参数类型\n",
    "\n",
    "`mode`参数有：\n",
    "- `t`\t文本模式 (默认)。\n",
    "- `x`\t写模式，新建一个文件，如果该文件已存在则会报错。\n",
    "- `b`\t二进制模式。\n",
    "- `+`\t打开一个文件进行更新(可读可写)。\n",
    "- `U`\t通用换行模式（不推荐）。\n",
    "- `r`\t以只读方式打开文件。文件的指针将会放在文件的开头。这是默认模式。\n",
    "- `rb`\t以二进制格式打开一个文件用于只读。文件指针将会放在文件的开头。这是默认模式。一般用于非文本文件如图片等。\n",
    "- `r+`\t打开一个文件用于读写。文件指针将会放在文件的开头。\n",
    "- `rb+`\t以二进制格式打开一个文件用于读写。文件指针将会放在文件的开头。一般用于非文本文件如图片等。\n",
    "- `w`\t打开一个文件只用于写入。如果该文件已存在则打开文件，并从开头开始编辑，即原有内容会被删除。如果该文件不存在，创建新文件。\n",
    "- `wb`\t以二进制格式打开一个文件只用于写入。如果该文件已存在则打开文件，并从开头开始编辑，即原有内容会被删除。如果该文件不存在，创建新文件。一般用于非文本文件如图片等。\n",
    "- `w+`\t打开一个文件用于读写。如果该文件已存在则打开文件，并从开头开始编辑，即原有内容会被删除。如果该文件不存在，创建新文件。\n",
    "- `wb+`\t以二进制格式打开一个文件用于读写。如果该文件已存在则打开文件，并从开头开始编辑，即原有内容会被删除。如果该文件不存在，创建新文件。一般用于非文本文件如图片等。\n",
    "- `a`\t打开一个文件用于追加。如果该文件已存在，文件指针将会放在文件的结尾。也就是说，新的内容将会被写入到已有内容之后。如果该文件不存在，创建新文件进行写入。\n",
    "- `ab`\t以二进制格式打开一个文件用于追加。如果该文件已存在，文件指针将会放在文件的结尾。也就是说，新的内容将会被写入到已有内容之后。如果该文件不存在，创建新文件进行写入。\n",
    "- `a+`\t打开一个文件用于读写。如果该文件已存在，文件指针将会放在文件的结尾。文件打开时会是追加模式。如果该文件不存在，创建新文件用于读写。\n",
    "- `ab+`\t以二进制格式打开一个文件用于追加。如果该文件已存在，文件指针将会放在文件的结尾。如果该文件不存在，创建新文件用于读写。\n",
    "\n",
    "默认为文本模式，如果要以二进制模式打开，加上`b`。\n",
    "\n",
    "使用方法`read()`读取文件的全部内容。"
   ]
  },
  {
   "cell_type": "code",
   "execution_count": 7,
   "metadata": {},
   "outputs": [
    {
     "name": "stdout",
     "output_type": "stream",
     "text": [
      "Hello, Python world!\n",
      "Nice to meet you!\n",
      "Now, I already have a basic impression of you.\n",
      "Looking forward to getting to know you better!\n",
      "Hello, Python world!\n",
      "Nice to meet you!\n",
      "Now, I already have a basic impression of you.\n",
      "Looking forward to getting to know you better!\n"
     ]
    }
   ],
   "source": [
    "# 使用相对路径打开文件\n",
    "with open('test.txt') as file_object:\n",
    "    contents = file_object.read()\n",
    "    print(contents.rstrip())\n",
    "\n",
    "# 使用绝对路径打开文件\n",
    "f = open(r'C:\\Users\\l\\Python_tasks/test.txt')\n",
    "print(f.read())  #f.read() 读文件全部内容\n",
    "f.close() "
   ]
  },
  {
   "cell_type": "markdown",
   "metadata": {},
   "source": [
    "#### 写方式\n",
    "要将文本写入文件，在调用`open()`时需要提供另一个实参，告诉Python你要写入打开的文件。\n",
    "\n",
    "打开文件时，可指定读取模式 （`r`）、写入模式 （`w`）、附加模式 （`a`）或让你能够读取和写入文件的模式（`r+`）。如果你省略了模式实参，Python将以默认的只读模式打开文件。\n",
    "\n",
    "使用文件对象的方法`write()`将一个字符串写入文件。\n",
    "\n",
    "如果要给文件添加内容，而不是覆盖原有的内容，可以附加模式（`a`）打开文件。以附加模式打开文件时，Python不会在返回文件对象前清空文件，而写入到文件的行都将添加到文件末尾。如果指定的文件不存在，Python将为你创建一个空文件。"
   ]
  },
  {
   "cell_type": "code",
   "execution_count": 8,
   "metadata": {},
   "outputs": [],
   "source": [
    "# 写入空文件\n",
    "filename = 'new_test.txt'\n",
    "with open(filename, 'w') as file_object:\n",
    "    file_object.write(\"I love programming.\\n\")\n",
    "    file_object.write(\"I love creating new games.\\n\")\n",
    "    \n",
    "# 附加到文件\n",
    "with open(filename, 'a') as file_object:\n",
    "    file_object.write(\"I also love finding meaning in large datasets.\\n\")\n",
    "    file_object.write(\"I love creating apps that can run in a browser.\\n\")"
   ]
  },
  {
   "cell_type": "markdown",
   "metadata": {},
   "source": [
    "### 文件对象的操作方法\n",
    "文件对象常用方法有：\n",
    "- `file.close()` 关闭文件\n",
    "- `file.flush()` 刷新文件内部缓冲，直接把内部缓冲区的数据立刻写入文件, 而不是被动的等待输出缓冲区写入。\n",
    "- `file.fileno()` 返回一个整型的文件描述符(`file descriptor FD`整型), 可以用在如`os`模块的`read`方法等一些底层操作上。\n",
    "- `file.isatty()` 如果文件连接到一个终端设备返回`True`，否则返回`False`。\n",
    "- `file.read([size])`从文件读取指定的字节数，如果未给定或为负则读取所有。\n",
    "- `file.readline([size])`读取整行，包括`\"\\n\"`字符。\n",
    "- `file.readlines([sizeint])` 读取所有行并返回列表，若给定`sizeint > 0`，返回总和大约为`sizeint`字节的行, 实际读取值可能比`sizeint`较大, 因为需要填充缓冲区。\n",
    "- `file.seek(offset[, whence])` 设置文件当前位置\n",
    "- `file.tell()` 返回文件当前位置\n",
    "- `file.truncate([size])` 从文件的首行首字符开始截断，截断文件为`size`个字符，无`size`表示从当前位置截断；截断之后后面的所有字符被删除，其中 Widnows 系统下的换行代表2个字符大小。\n",
    "- `file.write(str)` 将字符串写入文件，返回的是写入的字符长度。\n",
    "- `file.writelines(sequence)` 向文件写入一个序列字符串列表，如果需要换行则要自己加入每行的换行符。\n",
    "\n",
    "### 对excel及csv文件进行操作"
   ]
  },
  {
   "cell_type": "code",
   "execution_count": 11,
   "metadata": {},
   "outputs": [
    {
     "name": "stdout",
     "output_type": "stream",
     "text": [
      "[[11.0, 12.0, 13.0], [21.0, 22.0, 23.0], [31.0, 32.0, 33.0]]\n"
     ]
    }
   ],
   "source": [
    "import xlrd, xlwt   #xlwt只能写入xls文件\n",
    "\n",
    "#读取xlsx文件内容\n",
    "rows = []   #create an empty list to store rows\n",
    "book = xlrd.open_workbook('./test.xlsx')  #open the Excel spreadsheet as workbook\n",
    "sheet = book.sheet_by_index(0)    #get the first sheet\n",
    "for user in range(0, sheet.nrows):  #iterate 1 to maxrows\n",
    "    rows.append(list(sheet.row_values(user, 0, sheet.ncols)))  #iterate through the sheet and get data from rows in list\n",
    "print(rows)\n",
    "\n",
    "#写入xls文件\n",
    "rows1 = [['Name', 'Num'],['L', '40'],['M', '50']]\n",
    "book1 = xlwt.Workbook()   #create new book1 excel\n",
    "sheet1 = book1.add_sheet('user')   #create new sheet\n",
    "for i in range(0, 3):    \n",
    "    for j in range(0, len(rows1[i])):\n",
    "        sheet1.write(i, j, rows1[i][j])\n",
    "book1.save('./newdata.xlsx')   #sava as testdata1.xls"
   ]
  },
  {
   "cell_type": "code",
   "execution_count": 15,
   "metadata": {},
   "outputs": [
    {
     "name": "stdout",
     "output_type": "stream",
     "text": [
      "['11', '12', '13']\n",
      "['21', '22', '23']\n",
      "['31', '32', '33']\n",
      "['L', '40']\n",
      "['M', '50']\n"
     ]
    }
   ],
   "source": [
    "#读csv文件：先import csv，使用csv.reader()\n",
    "import csv\n",
    "with open('./test.csv') as csv_file:\n",
    "    reader = csv.reader(csv_file)\n",
    "    for user in reader:\n",
    "        print(user)\n",
    "\n",
    "#写csv文件\n",
    "dict = {'L': '40','M': '50'}\n",
    "csv_file = open('./test.csv', 'w', newline='')\n",
    "writer = csv.writer(csv_file)\n",
    "for key in dict:\n",
    "    writer.writerow([key, dict[key]])\n",
    "csv_file.close()   #close CSV file\n",
    "\n",
    "csv_file1 = csv.reader(open('./test.csv','r'))\n",
    "for user in csv_file1:\n",
    "    print(user)"
   ]
  },
  {
   "cell_type": "markdown",
   "metadata": {},
   "source": [
    "## 6.os模块"
   ]
  },
  {
   "cell_type": "markdown",
   "metadata": {},
   "source": [
    "`os`模块提供了非常丰富的方法用来处理文件和目录:\n",
    "- `os.sep`: 取代操作系统特定的路径分隔符\n",
    "- `os.name`: 指示你正在使用的工作平台。比如对于Windows，它是'nt'，而对于Linux/Unix用户，它是'posix'。\n",
    "- `os.getcwd`: 得到当前工作目录，即当前python脚本工作的目录路径。\n",
    "- `os.getenv()`和`os.putenv`: 分别用来读取和设置环境变量\n",
    "- `os.listdir()`: 返回指定目录下的所有文件和目录名\n",
    "- `os.remove(file)`: 删除一个文件\n",
    "- `os.stat(file)`: 获得文件属性\n",
    "- `os.chmod(file)`: 修改文件权限和时间戳\n",
    "- `os.mkdir(name)`: 创建目录\n",
    "- `os.rmdir(name)`: 删除目录\n",
    "- `os.removedirs(r\"c：\\python\")`: 删除多个目录\n",
    "- `os.system()`: 运行shell命令\n",
    "- `os.exit()`: 终止当前进程\n",
    "- `os.linesep`: 给出当前平台的行终止符。例如，Windows使用'\\r\\n'，Linux使用'\\n'而Mac使用'\\r'\n",
    "- `os.path.split()`: 返回一个路径的目录名和文件名\n",
    "- `os.path.isfile()`和`os.path.isdir()`: 分别检验给出的路径是一个目录还是文件\n",
    "- `os.path.existe()`: 检验给出的路径是否真的存在\n",
    "- `os.listdir(dirname)`: 列出`dirname`下的目录和文件\n",
    "- `os.getcwd()`: 获得当前工作目录\n",
    "- `os.curdir`:  返回当前目录（'.'）\n",
    "- `os.chdir(dirname)`: 改变工作目录到`dirname`\n",
    "- `os.path.isdir(name)`: 判断`name`是不是目录，不是目录就返回`false`\n",
    "- `os.path.isfile(name)`: 判断`name`这个文件是否存在，不存在返回`false`\n",
    "- `os.path.exists(name)`: 判断是否存在文件或目录`name`\n",
    "- `os.path.getsize(name)`: 获得文件大小，如果`name`是目录返回`0L`\n",
    "- `os.path.abspath(name)`: 获得绝对路径\n",
    "- `os.path.isabs()`: 判断是否为绝对路径\n",
    "- `os.path.normpath(path)`: 规范`path`字符串形式\n",
    "- `os.path.split(name)`: 分割文件名与目录（事实上，如果你完全使用目录，它也会将最后一个目录作为文件名而分离，同时它不会判断文件或目录是否存在）\n",
    "- `os.path.splitext()`: 分离文件名和扩展名\n",
    "- `os.path.join(path,name)`: 连接目录与文件名或目录\n",
    "- `os.path.basename(path)`: 返回文件名\n",
    "- `os.path.dirname(path)`: 返回文件路径"
   ]
  },
  {
   "cell_type": "code",
   "execution_count": null,
   "metadata": {},
   "outputs": [],
   "source": []
  }
 ],
 "metadata": {
  "kernelspec": {
   "display_name": "Python 3",
   "language": "python",
   "name": "python3"
  },
  "language_info": {
   "codemirror_mode": {
    "name": "ipython",
    "version": 3
   },
   "file_extension": ".py",
   "mimetype": "text/x-python",
   "name": "python",
   "nbconvert_exporter": "python",
   "pygments_lexer": "ipython3",
   "version": "3.7.3"
  }
 },
 "nbformat": 4,
 "nbformat_minor": 2
}
